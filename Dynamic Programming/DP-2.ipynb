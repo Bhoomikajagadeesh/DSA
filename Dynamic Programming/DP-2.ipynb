{
 "cells": [
  {
   "cell_type": "markdown",
   "id": "6088357d-b043-4312-8bd9-a22ff278eda4",
   "metadata": {},
   "source": [
    "0/1 Knapsack"
   ]
  },
  {
   "cell_type": "code",
   "execution_count": 8,
   "id": "db331f67-0c6d-4abc-b488-6479e52dbe3b",
   "metadata": {},
   "outputs": [],
   "source": [
    "def knapsack(values, weights, W):\n",
    "    n = len(values)\n",
    "    dp = [[0]*(W+1) for _ in range(n+1)]\n",
    "    \n",
    "    for i in range(1, n+1):\n",
    "        for w in range(W+1):\n",
    "            if weights[i-1] <= w:\n",
    "                dp[i][w] = max(dp[i-1][w], dp[i-1][w-weights[i-1]] + values[i-1])\n",
    "            else:\n",
    "                dp[i][w] = dp[i-1][w]\n",
    "    return dp[n][W]\n"
   ]
  },
  {
   "cell_type": "code",
   "execution_count": 15,
   "id": "d982e969-579d-4b25-a70c-12e13ac1c3b0",
   "metadata": {},
   "outputs": [
    {
     "name": "stdout",
     "output_type": "stream",
     "text": [
      "220\n"
     ]
    }
   ],
   "source": [
    "values = [60, 100, 120]\n",
    "weights = [10, 20, 30]\n",
    "W = 50\n",
    "print(knapsack(values, weights, W))"
   ]
  },
  {
   "cell_type": "markdown",
   "id": "7ae41f5f-6be3-4a7c-b3a5-1d546c6f70a8",
   "metadata": {},
   "source": [
    "Longest Common Subsequence (LCS)"
   ]
  },
  {
   "cell_type": "code",
   "execution_count": 18,
   "id": "87174c12-4fd4-4f29-bf47-55bd7cd60533",
   "metadata": {},
   "outputs": [],
   "source": [
    "def LCS(X, Y):\n",
    "    m, n = len(X), len(Y)\n",
    "    dp = [[0]*(n+1) for _ in range(m+1)]\n",
    "    \n",
    "    for i in range(1, m+1):\n",
    "        for j in range(1, n+1):\n",
    "            if X[i-1] == Y[j-1]:\n",
    "                dp[i][j] = dp[i-1][j-1] + 1\n",
    "            else:\n",
    "                dp[i][j] = max(dp[i-1][j], dp[i][j-1])\n",
    "    return dp[m][n]"
   ]
  },
  {
   "cell_type": "code",
   "execution_count": 20,
   "id": "f2b16460-6bff-47a4-9a65-8ca76cbebb2a",
   "metadata": {},
   "outputs": [
    {
     "name": "stdout",
     "output_type": "stream",
     "text": [
      "4\n"
     ]
    }
   ],
   "source": [
    "X = \"AGGTAB\"\n",
    "Y = \"GXTXAYB\"\n",
    "print(LCS(X, Y))"
   ]
  },
  {
   "cell_type": "markdown",
   "id": "c6b9bbfe-190e-482d-8288-4e66d9e073b7",
   "metadata": {},
   "source": [
    "Coin Change (Minimum Coins)"
   ]
  },
  {
   "cell_type": "code",
   "execution_count": 23,
   "id": "dab5f35e-2b4d-4d89-aae1-1267cd8e6a48",
   "metadata": {},
   "outputs": [],
   "source": [
    "def minCoins(coins, amount):\n",
    "    dp = [float('inf')] * (amount+1)\n",
    "    dp[0] = 0\n",
    "    \n",
    "    for a in range(1, amount+1):\n",
    "        for coin in coins:\n",
    "            if coin <= a:\n",
    "                dp[a] = min(dp[a], dp[a-coin] + 1)\n",
    "    return dp[amount] if dp[amount] != float('inf') else -1"
   ]
  },
  {
   "cell_type": "code",
   "execution_count": 25,
   "id": "4bbbda1b-db1e-41f5-9ee3-57380bef03e5",
   "metadata": {},
   "outputs": [
    {
     "name": "stdout",
     "output_type": "stream",
     "text": [
      "3\n"
     ]
    }
   ],
   "source": [
    "coins = [1, 2, 5]\n",
    "amount = 11\n",
    "print(minCoins(coins, amount))"
   ]
  },
  {
   "cell_type": "markdown",
   "id": "3bdd0024-7090-4010-a982-225ad4dc7a7d",
   "metadata": {},
   "source": [
    "Minimum Path Sum in a Grid"
   ]
  },
  {
   "cell_type": "code",
   "execution_count": 28,
   "id": "5fcdecbe-966e-42d7-92aa-15e15b647f2e",
   "metadata": {},
   "outputs": [],
   "source": [
    "def minPathSum(grid):\n",
    "    m, n = len(grid), len(grid[0])\n",
    "    dp = [[0]*n for _ in range(m)]\n",
    "    dp[0][0] = grid[0][0]\n",
    "\n",
    "    # First row\n",
    "    for j in range(1, n):\n",
    "        dp[0][j] = dp[0][j-1] + grid[0][j]\n",
    "    # First column\n",
    "    for i in range(1, m):\n",
    "        dp[i][0] = dp[i-1][0] + grid[i][0]\n",
    "    # Rest of grid\n",
    "    for i in range(1, m):\n",
    "        for j in range(1, n):\n",
    "            dp[i][j] = grid[i][j] + min(dp[i-1][j], dp[i][j-1])\n",
    "    return dp[m-1][n-1]"
   ]
  },
  {
   "cell_type": "code",
   "execution_count": 30,
   "id": "df796f04-7910-4e47-a551-c40ae184a542",
   "metadata": {},
   "outputs": [
    {
     "name": "stdout",
     "output_type": "stream",
     "text": [
      "7\n"
     ]
    }
   ],
   "source": [
    "grid = [\n",
    "    [1,3,1],\n",
    "    [1,5,1],\n",
    "    [4,2,1]\n",
    "]\n",
    "print(minPathSum(grid))"
   ]
  }
 ],
 "metadata": {
  "kernelspec": {
   "display_name": "Python [conda env:base] *",
   "language": "python",
   "name": "conda-base-py"
  },
  "language_info": {
   "codemirror_mode": {
    "name": "ipython",
    "version": 3
   },
   "file_extension": ".py",
   "mimetype": "text/x-python",
   "name": "python",
   "nbconvert_exporter": "python",
   "pygments_lexer": "ipython3",
   "version": "3.12.2"
  }
 },
 "nbformat": 4,
 "nbformat_minor": 5
}
