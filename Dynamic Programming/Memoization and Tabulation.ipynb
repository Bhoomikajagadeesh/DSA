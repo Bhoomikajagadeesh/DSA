{
 "cells": [
  {
   "cell_type": "markdown",
   "id": "0389d9a8-59e1-4f28-8840-284f8ea76477",
   "metadata": {},
   "source": [
    "Top-Down (Memoization):"
   ]
  },
  {
   "cell_type": "code",
   "execution_count": 5,
   "id": "2c0a5cab-4089-41b5-966d-0ab391df2228",
   "metadata": {},
   "outputs": [],
   "source": [
    "def fib_memo(n, memo={}):\n",
    "    if n in memo:\n",
    "        return memo[n]\n",
    "    if n <= 1:\n",
    "        return n\n",
    "    memo[n] = fib_memo(n-1, memo) + fib_memo(n-2, memo)\n",
    "    return memo[n]\n"
   ]
  },
  {
   "cell_type": "code",
   "execution_count": 7,
   "id": "c4d68377-dcf3-4606-8a07-1cbf2d8a361c",
   "metadata": {},
   "outputs": [
    {
     "name": "stdout",
     "output_type": "stream",
     "text": [
      "55\n"
     ]
    }
   ],
   "source": [
    "print(fib_memo(10)) "
   ]
  },
  {
   "cell_type": "markdown",
   "id": "c01e2871-4b83-4e17-8b66-f780548986d0",
   "metadata": {},
   "source": [
    "Bottom-Up (Tabulation):"
   ]
  },
  {
   "cell_type": "code",
   "execution_count": 10,
   "id": "dbf015a2-12f3-4b47-a3b7-d476fd00d842",
   "metadata": {},
   "outputs": [],
   "source": [
    "def fib_tab(n):\n",
    "    if n <= 1:\n",
    "        return n\n",
    "    dp = [0]*(n+1)\n",
    "    dp[1] = 1\n",
    "    for i in range(2, n+1):\n",
    "        dp[i] = dp[i-1] + dp[i-2]\n",
    "    return dp[n]"
   ]
  },
  {
   "cell_type": "code",
   "execution_count": 12,
   "id": "2758b1f0-16fc-4d06-b9ae-8a3d653c9bc3",
   "metadata": {},
   "outputs": [
    {
     "name": "stdout",
     "output_type": "stream",
     "text": [
      "55\n"
     ]
    }
   ],
   "source": [
    "print(fib_tab(10))"
   ]
  },
  {
   "cell_type": "markdown",
   "id": "294eedb3-bb7e-40bf-b382-26bfe48ff13b",
   "metadata": {},
   "source": [
    "0/1 Knapsack (Memoization)"
   ]
  },
  {
   "cell_type": "code",
   "execution_count": 32,
   "id": "2f793664-a45e-4655-bcff-8e031cf64ccf",
   "metadata": {},
   "outputs": [],
   "source": [
    "def knapsack_memo(values, weights, W, n, memo={}):\n",
    "    # Base case\n",
    "    if n == 0 or W == 0:\n",
    "        return 0\n",
    "    # Memoization key\n",
    "    if (n, W) in memo:\n",
    "        return memo[(n, W)]\n",
    "    \n",
    "    if weights[n-1] <= W:\n",
    "        include = values[n-1] + knapsack_memo(values, weights, W - weights[n-1], n-1, memo)\n",
    "        exclude = knapsack_memo(values, weights, W, n-1, memo)\n",
    "        memo[(n, W)] = max(include, exclude)\n",
    "    else:\n",
    "        memo[(n, W)] = knapsack_memo(values, weights, W, n-1, memo)\n",
    "    \n",
    "    return memo[(n, W)]"
   ]
  },
  {
   "cell_type": "code",
   "execution_count": 34,
   "id": "c637d3f5-4a81-4ff8-b6b2-a97b9c517411",
   "metadata": {},
   "outputs": [
    {
     "name": "stdout",
     "output_type": "stream",
     "text": [
      "0/1 Knapsack (Memoization): 220\n"
     ]
    }
   ],
   "source": [
    "values = [60, 100, 120]\n",
    "weights = [10, 20, 30]\n",
    "W = 50\n",
    "n = len(values)\n",
    "print(\"0/1 Knapsack (Memoization):\", knapsack_memo(values, weights, W, n))"
   ]
  },
  {
   "cell_type": "markdown",
   "id": "6a1e4356-ab26-4f4f-b237-ce51ccd2f3c0",
   "metadata": {},
   "source": [
    "0/1 Knapsack (Tabulation)"
   ]
  },
  {
   "cell_type": "code",
   "execution_count": 37,
   "id": "3b89aff5-4008-4659-825a-8302d8125abd",
   "metadata": {},
   "outputs": [],
   "source": [
    "def knapsack_tab(values, weights, W):\n",
    "    n = len(values)\n",
    "    dp = [[0]*(W+1) for _ in range(n+1)]\n",
    "    \n",
    "    for i in range(1, n+1):\n",
    "        for w in range(W+1):\n",
    "            if weights[i-1] <= w:\n",
    "                dp[i][w] = max(dp[i-1][w], dp[i-1][w-weights[i-1]] + values[i-1])\n",
    "            else:\n",
    "                dp[i][w] = dp[i-1][w]\n",
    "    \n",
    "    return dp[n][W]\n"
   ]
  },
  {
   "cell_type": "code",
   "execution_count": 27,
   "id": "0f33755a-5ac9-4bf4-9398-d58932621bbf",
   "metadata": {},
   "outputs": [
    {
     "name": "stdout",
     "output_type": "stream",
     "text": [
      "0/1 Knapsack (Tabulation): 220\n"
     ]
    }
   ],
   "source": [
    "values = [60, 100, 120]\n",
    "weights = [10, 20, 30]\n",
    "W = 50\n",
    "print(\"0/1 Knapsack (Tabulation):\", knapsack_tab(values, weights, W))"
   ]
  },
  {
   "cell_type": "code",
   "execution_count": null,
   "id": "046c6ba4-7d70-44c5-b0d0-56191fa05baf",
   "metadata": {},
   "outputs": [],
   "source": []
  }
 ],
 "metadata": {
  "kernelspec": {
   "display_name": "Python [conda env:base] *",
   "language": "python",
   "name": "conda-base-py"
  },
  "language_info": {
   "codemirror_mode": {
    "name": "ipython",
    "version": 3
   },
   "file_extension": ".py",
   "mimetype": "text/x-python",
   "name": "python",
   "nbconvert_exporter": "python",
   "pygments_lexer": "ipython3",
   "version": "3.12.2"
  }
 },
 "nbformat": 4,
 "nbformat_minor": 5
}
