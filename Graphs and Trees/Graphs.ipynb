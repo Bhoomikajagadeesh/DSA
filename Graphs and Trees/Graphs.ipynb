{
 "cells": [
  {
   "cell_type": "markdown",
   "id": "3cc3217e-1f17-4cbb-b521-ee3465f4240e",
   "metadata": {},
   "source": [
    "## Graphs\n",
    "\n",
    "- **DFS / BFS:** Depth-first / Level-order traversal  \n",
    "- **Shortest Path:** Dijkstra, Bellman-Ford  \n",
    "- **MST:** Kruskal, Prim  \n",
    "- **Topological Sort:** Order nodes in DAG  \n",
    "- **Representation:** Adjacency List / Matrix / Edge List\n"
   ]
  },
  {
   "cell_type": "markdown",
   "id": "d3b372d5-69f5-499b-a654-41dc47c87ad6",
   "metadata": {},
   "source": [
    "Depth-First Search (DFS)"
   ]
  },
  {
   "cell_type": "code",
   "execution_count": 33,
   "id": "7b6242b9-be43-4dff-8049-d6c6b573b10e",
   "metadata": {},
   "outputs": [],
   "source": [
    "# DFS recursively explores as far as possible along each branch\n",
    "# Useful for connected components, cycle detection, topological sort\n",
    "def dfs(graph, start, visited=set()):\n",
    "    visited.add(start)          # Mark node as visited\n",
    "    print(start, end=' ')       # Process node\n",
    "    for neighbor in graph[start]:\n",
    "        if neighbor not in visited:\n",
    "            dfs(graph, neighbor, visited)\n"
   ]
  },
  {
   "cell_type": "markdown",
   "id": "8a4454dc-7408-4db6-9ad3-aacac6754e4e",
   "metadata": {},
   "source": [
    "Breadth-First Search (BFS)"
   ]
  },
  {
   "cell_type": "code",
   "execution_count": 36,
   "id": "e8180043-cac5-4353-a376-30affd4c0136",
   "metadata": {},
   "outputs": [],
   "source": [
    "# BFS explores the graph level by level using a queue\n",
    "# Useful for shortest path in unweighted graphs\n",
    "from collections import deque\n",
    "def bfs(graph, start):\n",
    "    visited = set()\n",
    "    q = deque([start])\n",
    "    visited.add(start)\n",
    "    while q:\n",
    "        node = q.popleft()\n",
    "        print(node, end=' ')    # Process node\n",
    "        for neighbor in graph[node]:\n",
    "            if neighbor not in visited:\n",
    "                visited.add(neighbor)\n",
    "                q.append(neighbor)\n"
   ]
  },
  {
   "cell_type": "markdown",
   "id": "7262ca3f-9175-4612-8302-28c22169920f",
   "metadata": {},
   "source": [
    "Dijkstra’s Algorithm (Shortest Path, Non-negative weights)"
   ]
  },
  {
   "cell_type": "code",
   "execution_count": 39,
   "id": "050f7a80-f7c1-4395-9c22-9c0778b7d53b",
   "metadata": {},
   "outputs": [],
   "source": [
    "# Dijkstra finds shortest paths from a start node to all other nodes\n",
    "# Uses min-heap (priority queue) to always expand the closest node next\n",
    "import heapq\n",
    "\n",
    "def dijkstra(graph, start):\n",
    "    heap = [(0, start)]        # (distance, node)\n",
    "    dist = {node: float('inf') for node in graph}\n",
    "    dist[start] = 0\n",
    "\n",
    "    while heap:\n",
    "        d, u = heapq.heappop(heap)  # Node with smallest distance\n",
    "        if d > dist[u]:\n",
    "            continue\n",
    "        for v, w in graph[u]:       # Check neighbors\n",
    "            if dist[u] + w < dist[v]:\n",
    "                dist[v] = dist[u] + w\n",
    "                heapq.heappush(heap, (dist[v], v))\n",
    "    return dist\n"
   ]
  },
  {
   "cell_type": "markdown",
   "id": "52c02fe2-3a20-4847-b395-3313623ae853",
   "metadata": {},
   "source": [
    "Bellman-Ford Algorithm (Handles Negative Edges)"
   ]
  },
  {
   "cell_type": "code",
   "execution_count": 42,
   "id": "f4076816-d441-4207-b558-552d58b0b210",
   "metadata": {},
   "outputs": [],
   "source": [
    "# Bellman-Ford computes shortest paths from start node\n",
    "# Can handle negative weight edges and detect negative cycles\n",
    "def bellman_ford(edges, V, start):\n",
    "    dist = [float('inf')] * V\n",
    "    dist[start] = 0\n",
    "\n",
    "    for _ in range(V-1):         # Relax all edges V-1 times\n",
    "        for u, v, w in edges:\n",
    "            if dist[u] + w < dist[v]:\n",
    "                dist[v] = dist[u] + w\n",
    "\n",
    "    # Check for negative weight cycle\n",
    "    for u, v, w in edges:\n",
    "        if dist[u] + w < dist[v]:\n",
    "            print(\"Graph contains negative weight cycle\")\n",
    "            return None\n",
    "    return dist\n"
   ]
  },
  {
   "cell_type": "markdown",
   "id": "90f7f87a-1de3-40ef-8131-b307ab50ae9e",
   "metadata": {},
   "source": [
    "Topological Sort (DAG)"
   ]
  },
  {
   "cell_type": "code",
   "execution_count": 45,
   "id": "37db03bc-6f43-4ce6-98da-4d83e31d7c8c",
   "metadata": {},
   "outputs": [],
   "source": [
    "# Topological sort orders nodes linearly in a DAG\n",
    "# Useful for task scheduling, build systems\n",
    "def topological_sort(graph):\n",
    "    visited = set()\n",
    "    stack = []\n",
    "\n",
    "    def dfs(node):\n",
    "        visited.add(node)\n",
    "        for neighbor in graph[node]:\n",
    "            if neighbor not in visited:\n",
    "                dfs(neighbor)\n",
    "        stack.append(node)  # Add node after visiting all neighbors\n",
    "\n",
    "    for node in graph:\n",
    "        if node not in visited:\n",
    "            dfs(node)\n",
    "\n",
    "    return stack[::-1]  # Reverse stack to get correct order\n"
   ]
  },
  {
   "cell_type": "code",
   "execution_count": 47,
   "id": "9f136d18-457f-499b-94b6-dd22748be81d",
   "metadata": {},
   "outputs": [
    {
     "name": "stdout",
     "output_type": "stream",
     "text": [
      "DFS Traversal: A B D E F C "
     ]
    }
   ],
   "source": [
    "# Graph as adjacency list\n",
    "graph = {\n",
    "    'A': ['B', 'C'],\n",
    "    'B': ['D', 'E'],\n",
    "    'C': ['F'],\n",
    "    'D': [],\n",
    "    'E': ['F'],\n",
    "    'F': []\n",
    "}\n",
    "\n",
    "visited = set()\n",
    "print(\"DFS Traversal:\", end=' ')\n",
    "def dfs(graph, start, visited):\n",
    "    visited.add(start)\n",
    "    print(start, end=' ')\n",
    "    for neighbor in graph[start]:\n",
    "        if neighbor not in visited:\n",
    "            dfs(graph, neighbor, visited)\n",
    "\n",
    "dfs(graph, 'A', visited)\n"
   ]
  },
  {
   "cell_type": "code",
   "execution_count": 49,
   "id": "8d3285a6-12bf-47aa-8b84-03da1137eec9",
   "metadata": {},
   "outputs": [
    {
     "name": "stdout",
     "output_type": "stream",
     "text": [
      "BFS Traversal: A B C D E F "
     ]
    }
   ],
   "source": [
    "from collections import deque\n",
    "\n",
    "graph = {\n",
    "    'A': ['B', 'C'],\n",
    "    'B': ['D', 'E'],\n",
    "    'C': ['F'],\n",
    "    'D': [],\n",
    "    'E': ['F'],\n",
    "    'F': []\n",
    "}\n",
    "\n",
    "print(\"BFS Traversal:\", end=' ')\n",
    "def bfs(graph, start):\n",
    "    visited = set()\n",
    "    q = deque([start])\n",
    "    visited.add(start)\n",
    "    while q:\n",
    "        node = q.popleft()\n",
    "        print(node, end=' ')\n",
    "        for neighbor in graph[node]:\n",
    "            if neighbor not in visited:\n",
    "                visited.add(neighbor)\n",
    "                q.append(neighbor)\n",
    "\n",
    "bfs(graph, 'A')\n"
   ]
  },
  {
   "cell_type": "code",
   "execution_count": 51,
   "id": "1ebe6fbf-a36b-40ac-a617-5d0b784d9eb1",
   "metadata": {},
   "outputs": [
    {
     "name": "stdout",
     "output_type": "stream",
     "text": [
      "Shortest distances from A: {'A': 0, 'B': 2, 'C': 3, 'D': 8, 'E': 6, 'F': 9}\n"
     ]
    }
   ],
   "source": [
    "import heapq\n",
    "\n",
    "# Weighted graph: adjacency list with (neighbor, weight)\n",
    "graph = {\n",
    "    'A': [('B', 2), ('C', 4)],\n",
    "    'B': [('C', 1), ('D', 7)],\n",
    "    'C': [('E', 3)],\n",
    "    'D': [('F', 1)],\n",
    "    'E': [('D', 2), ('F', 5)],\n",
    "    'F': []\n",
    "}\n",
    "\n",
    "def dijkstra(graph, start):\n",
    "    heap = [(0, start)]\n",
    "    dist = {node: float('inf') for node in graph}\n",
    "    dist[start] = 0\n",
    "    while heap:\n",
    "        d, u = heapq.heappop(heap)\n",
    "        if d > dist[u]:\n",
    "            continue\n",
    "        for v, w in graph[u]:\n",
    "            if dist[u] + w < dist[v]:\n",
    "                dist[v] = dist[u] + w\n",
    "                heapq.heappush(heap, (dist[v], v))\n",
    "    return dist\n",
    "\n",
    "distances = dijkstra(graph, 'A')\n",
    "print(\"Shortest distances from A:\", distances)\n"
   ]
  },
  {
   "cell_type": "code",
   "execution_count": 53,
   "id": "f34ae701-4847-4118-83a7-d3778715ab87",
   "metadata": {},
   "outputs": [
    {
     "name": "stdout",
     "output_type": "stream",
     "text": [
      "Shortest distances from vertex 0: [0, -1, 2, -2, 1]\n"
     ]
    }
   ],
   "source": [
    "# Graph as edge list: (u, v, weight)\n",
    "edges = [\n",
    "    (0, 1, -1),\n",
    "    (0, 2, 4),\n",
    "    (1, 2, 3),\n",
    "    (1, 3, 2),\n",
    "    (1, 4, 2),\n",
    "    (3, 2, 5),\n",
    "    (3, 1, 1),\n",
    "    (4, 3, -3)\n",
    "]\n",
    "\n",
    "V = 5  # number of vertices\n",
    "start = 0\n",
    "\n",
    "def bellman_ford(edges, V, start):\n",
    "    dist = [float('inf')] * V\n",
    "    dist[start] = 0\n",
    "    for _ in range(V-1):\n",
    "        for u, v, w in edges:\n",
    "            if dist[u] + w < dist[v]:\n",
    "                dist[v] = dist[u] + w\n",
    "    # Check for negative cycle\n",
    "    for u, v, w in edges:\n",
    "        if dist[u] + w < dist[v]:\n",
    "            print(\"Graph contains negative weight cycle\")\n",
    "            return None\n",
    "    return dist\n",
    "\n",
    "distances = bellman_ford(edges, V, start)\n",
    "print(\"Shortest distances from vertex 0:\", distances)\n"
   ]
  },
  {
   "cell_type": "code",
   "execution_count": 55,
   "id": "34bd606c-f03c-4c18-beb2-937b1141714f",
   "metadata": {},
   "outputs": [
    {
     "name": "stdout",
     "output_type": "stream",
     "text": [
      "Topological Sort: ['B', 'D', 'A', 'C', 'E', 'F']\n"
     ]
    }
   ],
   "source": [
    "graph = {\n",
    "    'A': ['C'],\n",
    "    'B': ['C', 'D'],\n",
    "    'C': ['E'],\n",
    "    'D': ['F'],\n",
    "    'E': ['F'],\n",
    "    'F': []\n",
    "}\n",
    "\n",
    "def topological_sort(graph):\n",
    "    visited = set()\n",
    "    stack = []\n",
    "\n",
    "    def dfs(node):\n",
    "        visited.add(node)\n",
    "        for neighbor in graph[node]:\n",
    "            if neighbor not in visited:\n",
    "                dfs(neighbor)\n",
    "        stack.append(node)\n",
    "\n",
    "    for node in graph:\n",
    "        if node not in visited:\n",
    "            dfs(node)\n",
    "    return stack[::-1]\n",
    "\n",
    "order = topological_sort(graph)\n",
    "print(\"Topological Sort:\", order)\n"
   ]
  }
 ],
 "metadata": {
  "kernelspec": {
   "display_name": "Python [conda env:base] *",
   "language": "python",
   "name": "conda-base-py"
  },
  "language_info": {
   "codemirror_mode": {
    "name": "ipython",
    "version": 3
   },
   "file_extension": ".py",
   "mimetype": "text/x-python",
   "name": "python",
   "nbconvert_exporter": "python",
   "pygments_lexer": "ipython3",
   "version": "3.12.2"
  }
 },
 "nbformat": 4,
 "nbformat_minor": 5
}
