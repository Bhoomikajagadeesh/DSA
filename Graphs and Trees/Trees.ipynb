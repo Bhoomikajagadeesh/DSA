{
 "cells": [
  {
   "cell_type": "markdown",
   "id": "31f36158-36ee-4c3d-ba84-b10a0f50cdd8",
   "metadata": {},
   "source": [
    "Binary Tree Traversals"
   ]
  },
  {
   "cell_type": "code",
   "execution_count": 17,
   "id": "0d146ec2-023c-4d39-9bba-98e031bb3655",
   "metadata": {},
   "outputs": [],
   "source": [
    "# Preorder Traversal (Root -> Left -> Right)\n",
    "# Visit the root first, then recursively traverse left subtree, then right subtree\n",
    "def preorder(root):\n",
    "    if root:\n",
    "        print(root.val, end=' ')\n",
    "        preorder(root.left)\n",
    "        preorder(root.right)\n",
    "\n",
    "# Inorder Traversal (Left -> Root -> Right)\n",
    "# Traverse the left subtree first, then visit the root, then right subtree\n",
    "def inorder(root):\n",
    "    if root:\n",
    "        inorder(root.left)\n",
    "        print(root.val, end=' ')\n",
    "        inorder(root.right)\n",
    "\n",
    "# Postorder Traversal (Left -> Right -> Root)\n",
    "# Traverse left subtree, then right subtree, and visit root last\n",
    "def postorder(root):\n",
    "    if root:\n",
    "        postorder(root.left)\n",
    "        postorder(root.right)\n",
    "        print(root.val, end=' ')\n",
    "\n",
    "# Level Order Traversal (Breadth-First Search)\n",
    "# Visit nodes level by level using a queue\n",
    "from collections import deque\n",
    "def level_order(root):\n",
    "    if not root:\n",
    "        return\n",
    "    q = deque([root])\n",
    "    while q:\n",
    "        node = q.popleft()\n",
    "        print(node.val, end=' ')\n",
    "        if node.left:\n",
    "            q.append(node.left)\n",
    "        if node.right:\n",
    "            q.append(node.right)\n"
   ]
  }
 ],
 "metadata": {
  "kernelspec": {
   "display_name": "Python [conda env:base] *",
   "language": "python",
   "name": "conda-base-py"
  },
  "language_info": {
   "codemirror_mode": {
    "name": "ipython",
    "version": 3
   },
   "file_extension": ".py",
   "mimetype": "text/x-python",
   "name": "python",
   "nbconvert_exporter": "python",
   "pygments_lexer": "ipython3",
   "version": "3.12.2"
  }
 },
 "nbformat": 4,
 "nbformat_minor": 5
}
